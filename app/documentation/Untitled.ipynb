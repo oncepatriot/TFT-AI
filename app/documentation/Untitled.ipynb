{
 "cells": [
  {
   "cell_type": "markdown",
   "id": "fc66ff8f",
   "metadata": {},
   "source": [
    "How we one hot encode game state into observation state with one hot encoding.\n",
    "\n",
    "Because TFT is a game with a high amount of categorical data, we need to one hot encode so that it can be processed by our machine for reinforcement learning."
   ]
  },
  {
   "cell_type": "markdown",
   "id": "217254db",
   "metadata": {},
   "source": [
    "High Cardinality Categorical Data\n",
    "\n",
    "There are 100s of items and champions in TFT that need to be encoded. Each champion can hold 3 items and\n",
    "each player can have up to 9 champions on bench and board, so the number of combination grows extremely quickly.\n",
    "\n",
    "This is how I've tried to encode this data."
   ]
  },
  {
   "cell_type": "code",
   "execution_count": 2,
   "id": "59950d9d",
   "metadata": {},
   "outputs": [
    {
     "name": "stdout",
     "output_type": "stream",
     "text": [
      "['TFT5_Aatrox', 'TFT5_Akshan', 'TFT5_Aphelios', 'TFT5_Ashe', 'TFT5_Brand', 'TFT5_Diana', 'TFT5_Draven', 'TFT5_Fiddlesticks', 'TFT5_Galio', 'TFT5_Garen', 'TFT5_Gragas', 'TFT5_Gwen', 'TFT5_Hecarim', 'TFT5_Heimerdinger', 'TFT5_Ivern', 'TFT5_Irelia', 'TFT5_Jax', 'TFT5_Kalista', 'TFT5_Karma', 'TFT5_Kayle', 'TFT5_Kennen', 'TFT5_Khazix', 'TFT5_Kled', 'TFT5_LeeSin', 'TFT5_Leona', 'TFT5_Lucian', 'TFT5_Lulu', 'TFT5_Lux', 'TFT5_MissFortune', 'TFT5_Nautilus', 'TFT5_Nidalee', 'TFT5_Nocturne', 'TFT5_Nunu', 'TFT5_Olaf', 'TFT5_Poppy', 'TFT5_Pyke', 'TFT5_Rakan', 'TFT5_Rell', 'TFT5_Riven', 'TFT5_Sejuani', 'TFT5_Senna', 'TFT5_Sett', 'TFT5_Soraka', 'TFT5_Syndra', 'TFT5_Teemo', 'TFT5_Thresh', 'TFT5_Tristana', 'TFT5_Udyr', 'TFT5_Varus', 'TFT5_Vayne', 'TFT5_Velkoz', 'TFT5_Viego', 'TFT5_Vladimir', 'TFT5_Volibear', 'TFT5_Yasuo', 'TFT5_Ziggs', 'TFT5_Zyra']\n",
      "\n",
      "\n",
      "['1', '2', '3', '4', '5', '6', '7', '8', '9', '11', '12', '13', '14', '15', '16', '17', '18', '19', '22', '23', '24', '25', '26', '27', '28', '29', '33', '34', '35', '36', '37', '38', '39', '44', '45', '46', '47', '48', '49', '55', '56', '57', '58', '59', '66', '67', '68', '69', '77', '78', '79', '88', '89', '99', '1118', '1128', '1158', '1168', '1178', '1189', '1190', '1191', '1192', '1193', '1194', '1195', '1196', '1197', '2034', '2016', '2044', '2055', '2046', '2011', '2066', '2045', '2056', '2012', '2015', '2023', '2049', '2013', '2019', '2036', '2039', '2029', '2035', '2037', '2069', '2033', '2022', '2047', '2026', '2059', '2014', '2024', '2057', '2099', '2025', '2079', '2077', '2017', '2067', '2027']\n"
     ]
    }
   ],
   "source": [
    "import json\n",
    "import sys\n",
    "import random\n",
    "from sklearn.preprocessing import OneHotEncoder\n",
    "import numpy as np\n",
    "np.set_printoptions(threshold=sys.maxsize)\n",
    "\n",
    "\n",
    "champions_data = json.load(open('../tft_static_data/set5patch1115/champions.json'))\n",
    "items_data = json.load(open('../tft_static_data/set5patch1115/items.json'))\n",
    "\n",
    "\n",
    "champion_ids = [c['championId'] for c in champions_data]\n",
    "item_ids = [str(i['id']) for i in items_data]\n",
    "\n",
    "print(champion_ids)\n",
    "print(\"\\n\")\n",
    "print(item_ids)"
   ]
  },
  {
   "cell_type": "code",
   "execution_count": 3,
   "id": "2f8e4180",
   "metadata": {},
   "outputs": [
    {
     "name": "stdout",
     "output_type": "stream",
     "text": [
      "BOARD: [['TFT5_Heimerdinger', '2066', '2099', '66', 1], ['TFT5_Galio', '26', '2099', '2016', 3], ['TFT5_Teemo', '78', '47', '9', 3], ['TFT5_Kennen', '2013', '79', '1128', 3], ['TFT5_Nunu', '1191', '57', '1193', 1], ['TFT5_Brand', '67', '9', '1189', 2], ['TFT5_Sejuani', '25', '59', '38', 1], ['TFT5_Nocturne', '1190', '2079', '77', 1], ['None', 0, 0, 0, 0]] \n",
      "\n",
      "BENCH: [['TFT5_Syndra', '2033', '57', '2012', 3], ['TFT5_Irelia', '1168', '17', '2016', 1], ['TFT5_Irelia', '46', '2079', '1128', 1], ['TFT5_Kayle', '1158', '6', '34', 1], ['TFT5_Nidalee', '34', '16', '17', 1], ['TFT5_Aphelios', '2049', '36', '12', 1], ['TFT5_Rakan', '1196', '2029', '2046', 3], ['TFT5_Olaf', '17', '38', '88', 1], ['None', 0, 0, 0, 0]] \n",
      "\n",
      "SHOP: ['TFT5_Kalista', 'TFT5_Galio', 'TFT5_Ziggs', 'TFT5_Khazix', 'TFT5_Olaf']\n"
     ]
    }
   ],
   "source": [
    "# Mock out what the game state we want to encode will look like\n",
    "\n",
    "# A board will consists of up to 9 champions, each with 3 item slots and their level.\n",
    "# A champion is represented by a array of size 4 with [CHAMPION_ID, ITEM1, ITEM2, ITEM3, CHAMPION_LEVEL]\n",
    "board = [\n",
    "    [\n",
    "        random.choice(champion_ids), \n",
    "        random.choice(item_ids), \n",
    "        random.choice(item_ids), \n",
    "        random.choice(item_ids), \n",
    "        random.randint(1,3)\n",
    "    ] for i in range(8)\n",
    "]\n",
    "board.append(['None',0,0,0,0]) # add an unoccupied board slot\n",
    "\n",
    "bench = [\n",
    "    [\n",
    "        random.choice(champion_ids), \n",
    "        random.choice(item_ids), \n",
    "        random.choice(item_ids), \n",
    "        random.choice(item_ids), \n",
    "        random.randint(1,3)\n",
    "    ] for i in range(8)\n",
    "]\n",
    "bench.append(['None',0,0,0,0])\n",
    "\n",
    "# SHOP just has the champion names\n",
    "shop = [random.choice(champion_ids) for i in range(5)] \n",
    "\n",
    "print(\"BOARD:\", board, \"\\n\\nBENCH:\", bench, \"\\n\\nSHOP:\", shop)\n"
   ]
  },
  {
   "cell_type": "code",
   "execution_count": 4,
   "id": "3cd8bb86",
   "metadata": {},
   "outputs": [
    {
     "name": "stdout",
     "output_type": "stream",
     "text": [
      "['TFT5_Kalista' 'TFT5_Galio' 'TFT5_Ziggs' 'TFT5_Khazix' 'TFT5_Olaf'\n",
      " 'TFT5_Heimerdinger' '2066' '2099' '66' '1' 'TFT5_Galio' '26' '2099'\n",
      " '2016' '3' 'TFT5_Teemo' '78' '47' '9' '3' 'TFT5_Kennen' '2013' '79'\n",
      " '1128' '3' 'TFT5_Nunu' '1191' '57' '1193' '1' 'TFT5_Brand' '67' '9'\n",
      " '1189' '2' 'TFT5_Sejuani' '25' '59' '38' '1' 'TFT5_Nocturne' '1190'\n",
      " '2079' '77' '1' 'None' '0' '0' '0' '0' 'TFT5_Syndra' '2033' '57' '2012'\n",
      " '3' 'TFT5_Irelia' '1168' '17' '2016' '1' 'TFT5_Irelia' '46' '2079' '1128'\n",
      " '1' 'TFT5_Kayle' '1158' '6' '34' '1' 'TFT5_Nidalee' '34' '16' '17' '1'\n",
      " 'TFT5_Aphelios' '2049' '36' '12' '1' 'TFT5_Rakan' '1196' '2029' '2046'\n",
      " '3' 'TFT5_Olaf' '17' '38' '88' '1' 'None' '0' '0' '0' '0']\n"
     ]
    }
   ],
   "source": [
    "# Now we need to represent this game state as a 1-d vector. \n",
    "# Note that since we work with np arrays, everything is converted to \n",
    "# a string\n",
    "flattened_game_state = np.hstack(shop+board+bench)\n",
    "print(flattened_game_state)\n",
    "# Flattened game state should be 95 items long (Shop=5, Board=45, Bench=45)\n",
    "assert len(flattened_game_state) == 5 + 9*5 + 9*5  "
   ]
  },
  {
   "cell_type": "code",
   "execution_count": 7,
   "id": "7275c629",
   "metadata": {},
   "outputs": [
    {
     "ename": "NotFittedError",
     "evalue": "This OneHotEncoder instance is not fitted yet. Call 'fit' with appropriate arguments before using this estimator.",
     "output_type": "error",
     "traceback": [
      "\u001b[0;31m---------------------------------------------------------------------------\u001b[0m",
      "\u001b[0;31mNotFittedError\u001b[0m                            Traceback (most recent call last)",
      "\u001b[0;32m/var/folders/2r/fm42311573lcp1_1s1r9z11r0000gn/T/ipykernel_95941/794224139.py\u001b[0m in \u001b[0;36m<module>\u001b[0;34m\u001b[0m\n\u001b[1;32m     27\u001b[0m \u001b[0;34m\u001b[0m\u001b[0m\n\u001b[1;32m     28\u001b[0m \u001b[0;31m# Test one hot encoding game state works!\u001b[0m\u001b[0;34m\u001b[0m\u001b[0;34m\u001b[0m\u001b[0m\n\u001b[0;32m---> 29\u001b[0;31m \u001b[0mone_hot_encoded_state\u001b[0m \u001b[0;34m=\u001b[0m \u001b[0mgame_state_encoder\u001b[0m\u001b[0;34m.\u001b[0m\u001b[0mtransform\u001b[0m\u001b[0;34m(\u001b[0m\u001b[0;34m[\u001b[0m\u001b[0mflattened_game_state\u001b[0m\u001b[0;34m]\u001b[0m\u001b[0;34m)\u001b[0m\u001b[0;34m.\u001b[0m\u001b[0mtoarray\u001b[0m\u001b[0;34m(\u001b[0m\u001b[0;34m)\u001b[0m\u001b[0;34m[\u001b[0m\u001b[0;36m0\u001b[0m\u001b[0;34m]\u001b[0m\u001b[0;34m\u001b[0m\u001b[0;34m\u001b[0m\u001b[0m\n\u001b[0m\u001b[1;32m     30\u001b[0m \u001b[0mprint\u001b[0m\u001b[0;34m(\u001b[0m\u001b[0;34m\"Length of onehotencoded state:\"\u001b[0m\u001b[0;34m,\u001b[0m \u001b[0mlen\u001b[0m\u001b[0;34m(\u001b[0m\u001b[0mone_hot_encoded_state\u001b[0m\u001b[0;34m)\u001b[0m\u001b[0;34m,\u001b[0m \u001b[0;34m\"\\n\"\u001b[0m\u001b[0;34m)\u001b[0m\u001b[0;34m\u001b[0m\u001b[0;34m\u001b[0m\u001b[0m\n\u001b[1;32m     31\u001b[0m \u001b[0;34m\u001b[0m\u001b[0m\n",
      "\u001b[0;32m/usr/local/Cellar/jupyterlab/3.1.14/libexec/lib/python3.9/site-packages/sklearn/preprocessing/_encoders.py\u001b[0m in \u001b[0;36mtransform\u001b[0;34m(self, X)\u001b[0m\n\u001b[1;32m    504\u001b[0m             \u001b[0mreturned\u001b[0m\u001b[0;34m.\u001b[0m\u001b[0;34m\u001b[0m\u001b[0;34m\u001b[0m\u001b[0m\n\u001b[1;32m    505\u001b[0m         \"\"\"\n\u001b[0;32m--> 506\u001b[0;31m         \u001b[0mcheck_is_fitted\u001b[0m\u001b[0;34m(\u001b[0m\u001b[0mself\u001b[0m\u001b[0;34m)\u001b[0m\u001b[0;34m\u001b[0m\u001b[0;34m\u001b[0m\u001b[0m\n\u001b[0m\u001b[1;32m    507\u001b[0m         \u001b[0;31m# validation of X happens in _check_X called by _transform\u001b[0m\u001b[0;34m\u001b[0m\u001b[0;34m\u001b[0m\u001b[0m\n\u001b[1;32m    508\u001b[0m         \u001b[0mwarn_on_unknown\u001b[0m \u001b[0;34m=\u001b[0m \u001b[0mself\u001b[0m\u001b[0;34m.\u001b[0m\u001b[0mhandle_unknown\u001b[0m \u001b[0;34m==\u001b[0m \u001b[0;34m\"ignore\"\u001b[0m \u001b[0;32mand\u001b[0m \u001b[0mself\u001b[0m\u001b[0;34m.\u001b[0m\u001b[0mdrop\u001b[0m \u001b[0;32mis\u001b[0m \u001b[0;32mnot\u001b[0m \u001b[0;32mNone\u001b[0m\u001b[0;34m\u001b[0m\u001b[0;34m\u001b[0m\u001b[0m\n",
      "\u001b[0;32m/usr/local/Cellar/jupyterlab/3.1.14/libexec/lib/python3.9/site-packages/sklearn/utils/validation.py\u001b[0m in \u001b[0;36mcheck_is_fitted\u001b[0;34m(estimator, attributes, msg, all_or_any)\u001b[0m\n\u001b[1;32m   1206\u001b[0m \u001b[0;34m\u001b[0m\u001b[0m\n\u001b[1;32m   1207\u001b[0m     \u001b[0;32mif\u001b[0m \u001b[0;32mnot\u001b[0m \u001b[0mfitted\u001b[0m\u001b[0;34m:\u001b[0m\u001b[0;34m\u001b[0m\u001b[0;34m\u001b[0m\u001b[0m\n\u001b[0;32m-> 1208\u001b[0;31m         \u001b[0;32mraise\u001b[0m \u001b[0mNotFittedError\u001b[0m\u001b[0;34m(\u001b[0m\u001b[0mmsg\u001b[0m \u001b[0;34m%\u001b[0m \u001b[0;34m{\u001b[0m\u001b[0;34m\"name\"\u001b[0m\u001b[0;34m:\u001b[0m \u001b[0mtype\u001b[0m\u001b[0;34m(\u001b[0m\u001b[0mestimator\u001b[0m\u001b[0;34m)\u001b[0m\u001b[0;34m.\u001b[0m\u001b[0m__name__\u001b[0m\u001b[0;34m}\u001b[0m\u001b[0;34m)\u001b[0m\u001b[0;34m\u001b[0m\u001b[0;34m\u001b[0m\u001b[0m\n\u001b[0m\u001b[1;32m   1209\u001b[0m \u001b[0;34m\u001b[0m\u001b[0m\n\u001b[1;32m   1210\u001b[0m \u001b[0;34m\u001b[0m\u001b[0m\n",
      "\u001b[0;31mNotFittedError\u001b[0m: This OneHotEncoder instance is not fitted yet. Call 'fit' with appropriate arguments before using this estimator."
     ]
    }
   ],
   "source": [
    "# We now need to write a one-hot encoder that can hanlde all possible permutations of game state. The one-hot-encoder\n",
    "# must be able to encode all possible champion and item combinations.\n",
    "\n",
    "# list : categories[i] holds the categories expected in the ith column. \n",
    "# The passed categories should not mix strings and numeric values within \n",
    "# a single feature, and should be sorted in case of numeric values.\n",
    "\n",
    "categories = []\n",
    "# First five categories is the shop, which can hold CHAMPION_IDs\n",
    "categories += [champion_ids] * 5\n",
    "# Next is the bench and board \n",
    "\n",
    "for i in range(18):\n",
    "    categories += [['None'] + champion_ids] # the champion name\n",
    "    categories += [['0'] + item_ids] * 3 # 3 items champ can hold\n",
    "    categories.append([\"0\", \"1\",\"2\",\"3\"]) # champ levels\n",
    "\n",
    "game_state_encoder = OneHotEncoder(\n",
    "    categories=categories,\n",
    "    # drop=True <- We may want to drop first column due to collinearity.\n",
    ")\n",
    "\n",
    "game_state_encoder._fit = True\n",
    "\n",
    "# game_state_encoder.fit([flattened_game_state])\n",
    "\n",
    "\n",
    "# Test one hot encoding game state works!\n",
    "one_hot_encoded_state = game_state_encoder.transform([flattened_game_state]).toarray()[0]\n",
    "print(\"Length of onehotencoded state:\", len(one_hot_encoded_state), \"\\n\")\n",
    "\n",
    "# Test if reverse decoding game state works:\n",
    "game_state_encoder.inverse_transform([one_hot_encoded_state])\n",
    "\n"
   ]
  },
  {
   "cell_type": "code",
   "execution_count": 6,
   "id": "ed60d2aa",
   "metadata": {},
   "outputs": [],
   "source": [
    "# We now have our encoder: game_state_encoder\n",
    "# We might want to do a few things. We can pickle it so we can load it\n",
    "# from anywhere for use\n",
    "from joblib import dump, load\n",
    "import os.path\n",
    "\n",
    "dump(game_state_encoder, './game_state_encoder.joblib') \n",
    "encoder = load('./game_state_encoder.joblib') "
   ]
  },
  {
   "cell_type": "code",
   "execution_count": null,
   "id": "26933fdf",
   "metadata": {},
   "outputs": [],
   "source": []
  },
  {
   "cell_type": "code",
   "execution_count": null,
   "id": "484e3765",
   "metadata": {},
   "outputs": [],
   "source": []
  }
 ],
 "metadata": {
  "kernelspec": {
   "display_name": "Python 3 (ipykernel)",
   "language": "python",
   "name": "python3"
  },
  "language_info": {
   "codemirror_mode": {
    "name": "ipython",
    "version": 3
   },
   "file_extension": ".py",
   "mimetype": "text/x-python",
   "name": "python",
   "nbconvert_exporter": "python",
   "pygments_lexer": "ipython3",
   "version": "3.9.7"
  }
 },
 "nbformat": 4,
 "nbformat_minor": 5
}
