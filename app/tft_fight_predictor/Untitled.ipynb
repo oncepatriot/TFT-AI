{
 "cells": [
  {
   "cell_type": "markdown",
   "id": "61513824",
   "metadata": {},
   "source": [
    "The goal of this notebook is to show the pipeline:\n",
    "1) Retrieving match data from Riot's TFT API\n",
    "2) Processing and saving the data\n",
    "3) Building a TFT model for predicting fights"
   ]
  },
  {
   "cell_type": "code",
   "execution_count": 80,
   "id": "54eb82f5",
   "metadata": {},
   "outputs": [
    {
     "ename": "SyntaxError",
     "evalue": "invalid syntax (<ipython-input-80-c7d600d36f15>, line 6)",
     "output_type": "error",
     "traceback": [
      "\u001b[1;36m  File \u001b[1;32m\"<ipython-input-80-c7d600d36f15>\"\u001b[1;36m, line \u001b[1;32m6\u001b[0m\n\u001b[1;33m    print(*)\u001b[0m\n\u001b[1;37m           ^\u001b[0m\n\u001b[1;31mSyntaxError\u001b[0m\u001b[1;31m:\u001b[0m invalid syntax\n"
     ]
    }
   ],
   "source": [
    "import pandas as pd\n",
    "import json\n",
    "from tft_api.sample_response import sample_match_data\n",
    "from tft_api.tft_api import get_match_by_match_id, get_match_ids_by_puuid, TEST_PUUID, TEST_MATCH_ID\n",
    "\n",
    "\n",
    "\n",
    "\"\"\"\n",
    "If running in prod, we would be fetching data from Riots api\n",
    "\n",
    "get_match_ids_by_puuid(TEST_PUUID)\n",
    "get_match_by_match_id(TEST_MATCH_ID)\n",
    "\n",
    "Instead we will use sample match data\n",
    "\"\"\"\n",
    "\n",
    "# Get players in a completed match and sort them by their placement\n",
    "players = sample_match_data[\"info\"][\"participants\"]\n",
    "players = sorted(players, key=lambda i: i['placement'])\n",
    "players = [{\n",
    "\t\"placement\": player['placement'],\n",
    "\t\"traits\": player['traits'],\n",
    "\t\"level\": player['level'],\n",
    "\t\"units\": player['units'],\n",
    "} for player in players]\n",
    "\n",
    "print(json.dumps(players, indent=3))\n"
   ]
  },
  {
   "cell_type": "code",
   "execution_count": 72,
   "id": "24524e69",
   "metadata": {},
   "outputs": [
    {
     "ename": "TypeError",
     "evalue": "list indices must be integers or slices, not str",
     "output_type": "error",
     "traceback": [
      "\u001b[1;31m---------------------------------------------------------------------------\u001b[0m",
      "\u001b[1;31mTypeError\u001b[0m                                 Traceback (most recent call last)",
      "\u001b[1;32m<ipython-input-72-abbb075f6d6e>\u001b[0m in \u001b[0;36m<module>\u001b[1;34m\u001b[0m\n\u001b[0;32m      1\u001b[0m \u001b[1;31m# REMOVE inactive traits\u001b[0m\u001b[1;33m\u001b[0m\u001b[1;33m\u001b[0m\u001b[1;33m\u001b[0m\u001b[0m\n\u001b[0;32m      2\u001b[0m \u001b[1;32mfor\u001b[0m \u001b[0mplayer\u001b[0m \u001b[1;32min\u001b[0m \u001b[0mplayers\u001b[0m\u001b[1;33m:\u001b[0m\u001b[1;33m\u001b[0m\u001b[1;33m\u001b[0m\u001b[0m\n\u001b[1;32m----> 3\u001b[1;33m     \u001b[0mupdated_traits\u001b[0m \u001b[1;33m=\u001b[0m \u001b[0mlist\u001b[0m\u001b[1;33m(\u001b[0m\u001b[0mfilter\u001b[0m\u001b[1;33m(\u001b[0m\u001b[1;32mlambda\u001b[0m \u001b[0mtrait\u001b[0m\u001b[1;33m:\u001b[0m \u001b[0mtrait\u001b[0m\u001b[1;33m[\u001b[0m\u001b[1;34m'tier_current'\u001b[0m\u001b[1;33m]\u001b[0m \u001b[1;33m!=\u001b[0m \u001b[1;36m0\u001b[0m\u001b[1;33m,\u001b[0m \u001b[0mplayer\u001b[0m\u001b[1;33m[\u001b[0m\u001b[1;34m'traits'\u001b[0m\u001b[1;33m]\u001b[0m\u001b[1;33m)\u001b[0m\u001b[1;33m)\u001b[0m\u001b[1;33m\u001b[0m\u001b[1;33m\u001b[0m\u001b[0m\n\u001b[0m\u001b[0;32m      4\u001b[0m     \u001b[0mplayer\u001b[0m\u001b[1;33m[\u001b[0m\u001b[1;34m'traits'\u001b[0m\u001b[1;33m]\u001b[0m \u001b[1;33m=\u001b[0m \u001b[1;33m[\u001b[0m\u001b[1;33m[\u001b[0m\u001b[0mtrait\u001b[0m\u001b[1;33m[\u001b[0m\u001b[1;34m'name'\u001b[0m\u001b[1;33m]\u001b[0m\u001b[1;33m,\u001b[0m \u001b[0mtrait\u001b[0m\u001b[1;33m[\u001b[0m\u001b[1;34m'tier_current'\u001b[0m\u001b[1;33m]\u001b[0m\u001b[1;33m]\u001b[0m \u001b[1;32mfor\u001b[0m \u001b[0mtrait\u001b[0m \u001b[1;32min\u001b[0m \u001b[0mupdated_traits\u001b[0m\u001b[1;33m]\u001b[0m\u001b[1;33m\u001b[0m\u001b[1;33m\u001b[0m\u001b[0m\n\u001b[0;32m      5\u001b[0m \u001b[1;33m\u001b[0m\u001b[0m\n",
      "\u001b[1;32m<ipython-input-72-abbb075f6d6e>\u001b[0m in \u001b[0;36m<lambda>\u001b[1;34m(trait)\u001b[0m\n\u001b[0;32m      1\u001b[0m \u001b[1;31m# REMOVE inactive traits\u001b[0m\u001b[1;33m\u001b[0m\u001b[1;33m\u001b[0m\u001b[1;33m\u001b[0m\u001b[0m\n\u001b[0;32m      2\u001b[0m \u001b[1;32mfor\u001b[0m \u001b[0mplayer\u001b[0m \u001b[1;32min\u001b[0m \u001b[0mplayers\u001b[0m\u001b[1;33m:\u001b[0m\u001b[1;33m\u001b[0m\u001b[1;33m\u001b[0m\u001b[0m\n\u001b[1;32m----> 3\u001b[1;33m     \u001b[0mupdated_traits\u001b[0m \u001b[1;33m=\u001b[0m \u001b[0mlist\u001b[0m\u001b[1;33m(\u001b[0m\u001b[0mfilter\u001b[0m\u001b[1;33m(\u001b[0m\u001b[1;32mlambda\u001b[0m \u001b[0mtrait\u001b[0m\u001b[1;33m:\u001b[0m \u001b[0mtrait\u001b[0m\u001b[1;33m[\u001b[0m\u001b[1;34m'tier_current'\u001b[0m\u001b[1;33m]\u001b[0m \u001b[1;33m!=\u001b[0m \u001b[1;36m0\u001b[0m\u001b[1;33m,\u001b[0m \u001b[0mplayer\u001b[0m\u001b[1;33m[\u001b[0m\u001b[1;34m'traits'\u001b[0m\u001b[1;33m]\u001b[0m\u001b[1;33m)\u001b[0m\u001b[1;33m)\u001b[0m\u001b[1;33m\u001b[0m\u001b[1;33m\u001b[0m\u001b[0m\n\u001b[0m\u001b[0;32m      4\u001b[0m     \u001b[0mplayer\u001b[0m\u001b[1;33m[\u001b[0m\u001b[1;34m'traits'\u001b[0m\u001b[1;33m]\u001b[0m \u001b[1;33m=\u001b[0m \u001b[1;33m[\u001b[0m\u001b[1;33m[\u001b[0m\u001b[0mtrait\u001b[0m\u001b[1;33m[\u001b[0m\u001b[1;34m'name'\u001b[0m\u001b[1;33m]\u001b[0m\u001b[1;33m,\u001b[0m \u001b[0mtrait\u001b[0m\u001b[1;33m[\u001b[0m\u001b[1;34m'tier_current'\u001b[0m\u001b[1;33m]\u001b[0m\u001b[1;33m]\u001b[0m \u001b[1;32mfor\u001b[0m \u001b[0mtrait\u001b[0m \u001b[1;32min\u001b[0m \u001b[0mupdated_traits\u001b[0m\u001b[1;33m]\u001b[0m\u001b[1;33m\u001b[0m\u001b[1;33m\u001b[0m\u001b[0m\n\u001b[0;32m      5\u001b[0m \u001b[1;33m\u001b[0m\u001b[0m\n",
      "\u001b[1;31mTypeError\u001b[0m: list indices must be integers or slices, not str"
     ]
    }
   ],
   "source": [
    "# REMOVE inactive traits\n",
    "for player in players:\n",
    "    updated_traits = list(filter(lambda trait: trait['tier_current'] != 0, player['traits']))\n",
    "    player['traits'] = [[trait['name'], trait['tier_current']] for trait in updated_traits]\n",
    "\n",
    "\n",
    "    \n",
    "print(players)\n",
    "\n"
   ]
  },
  {
   "cell_type": "code",
   "execution_count": null,
   "id": "cf2973a4",
   "metadata": {},
   "outputs": [],
   "source": []
  }
 ],
 "metadata": {
  "kernelspec": {
   "display_name": "Python 3",
   "language": "python",
   "name": "python3"
  },
  "language_info": {
   "codemirror_mode": {
    "name": "ipython",
    "version": 3
   },
   "file_extension": ".py",
   "mimetype": "text/x-python",
   "name": "python",
   "nbconvert_exporter": "python",
   "pygments_lexer": "ipython3",
   "version": "3.8.8"
  }
 },
 "nbformat": 4,
 "nbformat_minor": 5
}
