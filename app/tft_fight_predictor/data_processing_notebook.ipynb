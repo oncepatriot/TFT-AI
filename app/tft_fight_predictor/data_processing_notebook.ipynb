{
 "cells": [
  {
   "cell_type": "markdown",
   "id": "61513824",
   "metadata": {},
   "source": [
    "The goal of this notebook is to show the pipeline:\n",
    "1) Retrieving match data from Riot's TFT API\n",
    "2) Processing and saving the data\n",
    "3) Building a TFT model for predicting fights"
   ]
  },
  {
   "cell_type": "code",
   "execution_count": 9,
   "id": "54eb82f5",
   "metadata": {},
   "outputs": [
    {
     "ename": "IndentationError",
     "evalue": "unindent does not match any outer indentation level (tft_api.py, line 58)",
     "output_type": "error",
     "traceback": [
      "Traceback \u001b[1;36m(most recent call last)\u001b[0m:\n",
      "  File \u001b[0;32m\"C:\\Users\\Samsung\\anaconda3\\lib\\site-packages\\IPython\\core\\interactiveshell.py\"\u001b[0m, line \u001b[0;32m3437\u001b[0m, in \u001b[0;35mrun_code\u001b[0m\n    exec(code_obj, self.user_global_ns, self.user_ns)\n",
      "\u001b[1;36m  File \u001b[1;32m\"<ipython-input-9-266bf2723af7>\"\u001b[1;36m, line \u001b[1;32m5\u001b[1;36m, in \u001b[1;35m<module>\u001b[1;36m\u001b[0m\n\u001b[1;33m    from tft_api.tft_api import get_match_by_match_id, get_match_ids_by_puuid, TEST_PUUID, TEST_MATCH_ID\u001b[0m\n",
      "\u001b[1;36m  File \u001b[1;32m\"C:\\Users\\Samsung\\Documents\\GitHub\\TFT-AI\\app\\tft_fight_predictor\\tft_api\\tft_api.py\"\u001b[1;36m, line \u001b[1;32m58\u001b[0m\n\u001b[1;33m    players = match_data[\"info\"][\"participants\"]\u001b[0m\n\u001b[1;37m                                                ^\u001b[0m\n\u001b[1;31mIndentationError\u001b[0m\u001b[1;31m:\u001b[0m unindent does not match any outer indentation level\n"
     ]
    }
   ],
   "source": [
    "import pandas as pd\n",
    "import json\n",
    "import itertools\n",
    "from tft_api.sample_response import sample_match_data\n",
    "from tft_api.tft_api import get_match_by_match_id, get_match_ids_by_puuid, TEST_PUUID, TEST_MATCH_ID\n",
    "import copy\n",
    "import random\n",
    "\n",
    "\"\"\"\n",
    "If running in prod, we would be fetching data from Riots api\n",
    "\n",
    "get_match_ids_by_puuid(TEST_PUUID)\n",
    "get_match_by_match_id(TEST_MATCH_ID)\n",
    "\n",
    "Instead we will use sample match data\n",
    "\"\"\"\n",
    "\n",
    "# Get players in a completed match and sort them by their placement\n",
    "players = sample_match_data[\"info\"][\"participants\"]\n",
    "players = sorted(players, key=lambda i: i['placement'])\n",
    "players = [{\n",
    "\t\"placement\": player['placement'],\n",
    "\t\"units\": player['units'],\n",
    "} for player in players]\n",
    "\n",
    "# print(players)"
   ]
  },
  {
   "cell_type": "code",
   "execution_count": 2,
   "id": "24524e69",
   "metadata": {
    "scrolled": false
   },
   "outputs": [
    {
     "ename": "NameError",
     "evalue": "name 'players' is not defined",
     "output_type": "error",
     "traceback": [
      "\u001b[1;31m---------------------------------------------------------------------------\u001b[0m",
      "\u001b[1;31mNameError\u001b[0m                                 Traceback (most recent call last)",
      "\u001b[1;32m<ipython-input-2-09b69d8f4468>\u001b[0m in \u001b[0;36m<module>\u001b[1;34m\u001b[0m\n\u001b[0;32m      1\u001b[0m \u001b[1;31m# REMOVE inactive traits and unused data\u001b[0m\u001b[1;33m\u001b[0m\u001b[1;33m\u001b[0m\u001b[1;33m\u001b[0m\u001b[0m\n\u001b[1;32m----> 2\u001b[1;33m \u001b[1;32mfor\u001b[0m \u001b[0mplayer\u001b[0m \u001b[1;32min\u001b[0m \u001b[0mplayers\u001b[0m\u001b[1;33m:\u001b[0m\u001b[1;33m\u001b[0m\u001b[1;33m\u001b[0m\u001b[0m\n\u001b[0m\u001b[0;32m      3\u001b[0m     \u001b[0mplayer\u001b[0m\u001b[1;33m[\u001b[0m\u001b[1;34m'units'\u001b[0m\u001b[1;33m]\u001b[0m \u001b[1;33m=\u001b[0m \u001b[1;33m[\u001b[0m\u001b[1;33m[\u001b[0m\u001b[0munit\u001b[0m\u001b[1;33m[\u001b[0m\u001b[1;34m'character_id'\u001b[0m\u001b[1;33m]\u001b[0m\u001b[1;33m,\u001b[0m \u001b[0munit\u001b[0m\u001b[1;33m[\u001b[0m\u001b[1;34m'items'\u001b[0m\u001b[1;33m]\u001b[0m\u001b[1;33m,\u001b[0m \u001b[0munit\u001b[0m\u001b[1;33m[\u001b[0m\u001b[1;34m'rarity'\u001b[0m\u001b[1;33m]\u001b[0m\u001b[1;33m,\u001b[0m \u001b[0munit\u001b[0m\u001b[1;33m[\u001b[0m\u001b[1;34m'tier'\u001b[0m\u001b[1;33m]\u001b[0m\u001b[1;33m]\u001b[0m \u001b[1;32mfor\u001b[0m \u001b[0munit\u001b[0m \u001b[1;32min\u001b[0m \u001b[0mplayer\u001b[0m\u001b[1;33m[\u001b[0m\u001b[1;34m'units'\u001b[0m\u001b[1;33m]\u001b[0m\u001b[1;33m]\u001b[0m\u001b[1;33m\u001b[0m\u001b[1;33m\u001b[0m\u001b[0m\n\u001b[0;32m      4\u001b[0m \u001b[1;33m\u001b[0m\u001b[0m\n\u001b[0;32m      5\u001b[0m \u001b[1;33m\u001b[0m\u001b[0m\n",
      "\u001b[1;31mNameError\u001b[0m: name 'players' is not defined"
     ]
    }
   ],
   "source": [
    "# REMOVE inactive traits and unused data\n",
    "for player in players:\n",
    "    player['units'] = [[unit['character_id'], unit['items'], unit['rarity'], unit['tier']] for unit in player['units']]\n",
    "    \n",
    "\n",
    "# Create match_pair_data:\n",
    "#\n",
    "# [Player that won \n",
    "#  (0 = first player, 1 = second),\n",
    "#   player1,\n",
    "#   player2\n",
    "# ]\n",
    "match_pairs = []\n",
    "for i, j in itertools.product(players, players):\n",
    "    if i['placement'] < j['placement']:\n",
    "        if random.randint(0, 1) == 1:\n",
    "            match_pairs.append([0, i, j])\n",
    "        else:\n",
    "            match_pairs.append([1, j, i])\n",
    "#print(match_pairs)\n",
    "\n",
    "# Generate more match pair data by pairing players against\n",
    "# strictly worse versions of themselves. (one less unit)\n",
    "for player in players:\n",
    "    player_copy = copy.deepcopy(player)\n",
    "    while len(player_copy['units']) > 0:\n",
    "        stronger = copy.deepcopy(player_copy)\n",
    "        player_copy['units'].pop()\n",
    "        weaker = copy.deepcopy(player_copy)\n",
    "        \n",
    "        if random.randint(0, 1) == 1:\n",
    "            match_pairs.append([0, stronger, weaker])\n",
    "        else:\n",
    "            match_pairs.append([1, weaker, stronger])\n"
   ]
  },
  {
   "cell_type": "code",
   "execution_count": 3,
   "id": "cf2973a4",
   "metadata": {},
   "outputs": [],
   "source": [
    "# Write data to csv file\n",
    "import csv\n",
    "\n",
    "headers = ['winner', 'player0_unit0', 'player0_unit0_item0', 'player0_unit0_item1', 'player0_unit0_item2', 'player0_unit0_level', 'player0_unit1', 'player0_unit1_item0', 'player0_unit1_item1', 'player0_unit1_item2', 'player0_unit1_level', 'player0_unit2', 'player0_unit2_item0', 'player0_unit2_item1', 'player0_unit2_item2', 'player0_unit2_level', 'player0_unit3', 'player0_unit3_item0', 'player0_unit3_item1', 'player0_unit3_item2', 'player0_unit3_level', 'player0_unit4', 'player0_unit4_item0', 'player0_unit4_item1', 'player0_unit4_item2', 'player0_unit4_level', 'player0_unit5', 'player0_unit5_item0', 'player0_unit5_item1', 'player0_unit5_item2', 'player0_unit5_level', 'player0_unit6', 'player0_unit6_item0', 'player0_unit6_item1', 'player0_unit6_item2', 'player0_unit6_level', 'player0_unit7', 'player0_unit7_item0', 'player0_unit7_item1', 'player0_unit7_item2', 'player0_unit7_level', 'player0_unit8', 'player0_unit8_item0', 'player0_unit8_item1', 'player0_unit8_item2', 'player0_unit8_level', 'player1_unit0', 'player1_unit0_item0', 'player1_unit0_item1', 'player1_unit0_item2', 'player1_unit0_level', 'player1_unit1', 'player1_unit1_item0', 'player1_unit1_item1', 'player1_unit1_item2', 'player1_unit1_level', 'player1_unit2', 'player1_unit2_item0', 'player1_unit2_item1', 'player1_unit2_item2', 'player1_unit2_level', 'player1_unit3', 'player1_unit3_item0', 'player1_unit3_item1', 'player1_unit3_item2', 'player1_unit3_level', 'player1_unit4', 'player1_unit4_item0', 'player1_unit4_item1', 'player1_unit4_item2', 'player1_unit4_level', 'player1_unit5', 'player1_unit5_item0', 'player1_unit5_item1', 'player1_unit5_item2', 'player1_unit5_level', 'player1_unit6', 'player1_unit6_item0', 'player1_unit6_item1', 'player1_unit6_item2', 'player1_unit6_level', 'player1_unit7', 'player1_unit7_item0', 'player1_unit7_item1', 'player1_unit7_item2', 'player1_unit7_level', 'player1_unit8', 'player1_unit8_item0', 'player1_unit8_item1', 'player1_unit8_item2', 'player1_unit8_level']\n",
    "rows = []\n",
    "           \n",
    "for match_pair in match_pairs:\n",
    "    winner = match_pair[0]\n",
    "    player1_units = match_pair[1][\"units\"]\n",
    "    player2_units = match_pair[2][\"units\"]\n",
    "    \n",
    "    row = [winner]\n",
    "\n",
    "    for player_num, player_units in enumerate([player1_units, player2_units]):\n",
    "        for i in range(9):\n",
    "            if i < len(player_units):\n",
    "                unit = player_units[i]\n",
    "                unit_id = unit[0]\n",
    "                unit_items = unit[1]\n",
    "                unit_level = unit[3]\n",
    "            else:\n",
    "                unit_id = \"None\"\n",
    "                unit_items = [0,0,0]\n",
    "                unit_level = 0\n",
    "            \n",
    "            row.append(unit_id)\n",
    "            items = unit_items + [0]*(3-len(unit_items))\n",
    "            row = row + items\n",
    "            \n",
    "            row.append(unit_level)\n",
    "\n",
    "    rows.append(row)\n",
    "\n",
    "\n",
    "with open('./data/preprocessed_training_data.csv', mode='w') as csv_file:\n",
    "    writer = csv.writer(csv_file, delimiter=',', quotechar='\"', quoting=csv.QUOTE_MINIMAL)\n",
    "    writer.writerow(headers)\n",
    "    for row in rows:\n",
    "        writer.writerow(row)\n",
    "\n",
    "csv_file.close()"
   ]
  },
  {
   "cell_type": "code",
   "execution_count": 8,
   "id": "b2606f18",
   "metadata": {},
   "outputs": [],
   "source": [
    "from sklearn.model_selection import train_test_split\n",
    "from sklearn.linear_model import LogisticRegression\n",
    "from sklearn.metrics import accuracy_score\n",
    "\n",
    "def logistic(X,y):\n",
    "    X_train,X_test,y_train,y_test=train_test_split(X,y,random_state=42,test_size=0.2)\n",
    "    lr=LogisticRegression(max_iter=20000)\n",
    "    lr.fit(X_train,y_train)\n",
    "    y_pre=lr.predict(X_test)\n",
    "    print('Accuracy : ', accuracy_score(y_test,y_pre))\n",
    "        "
   ]
  },
  {
   "cell_type": "code",
   "execution_count": 9,
   "id": "ced0f7dc",
   "metadata": {},
   "outputs": [
    {
     "name": "stdout",
     "output_type": "stream",
     "text": [
      "Accuracy :  0.9865470852017937\n"
     ]
    }
   ],
   "source": [
    "import pandas as pd\n",
    "from sklearn.preprocessing import OneHotEncoder\n",
    "\n",
    "\n",
    "# Now prep file to be interpreted by model\n",
    "\n",
    "df_train = pd.read_csv('./data/preprocessed_training_data.csv')\n",
    "df_train.head()\n",
    "\n",
    "train_data = df_train.drop(['winner'],axis=1) # data without the winner\n",
    "target = df_train['winner'] # winner column in data\n",
    "\n",
    "one = OneHotEncoder()\n",
    "one.fit(train_data)\n",
    "train = one.transform(train_data)\n",
    "\n",
    "logistic(train, target)\n",
    "\n",
    "        "
   ]
  },
  {
   "cell_type": "code",
   "execution_count": null,
   "id": "8ad2756f",
   "metadata": {},
   "outputs": [],
   "source": []
  }
 ],
 "metadata": {
  "kernelspec": {
   "display_name": "Python 3",
   "language": "python",
   "name": "python3"
  },
  "language_info": {
   "codemirror_mode": {
    "name": "ipython",
    "version": 3
   },
   "file_extension": ".py",
   "mimetype": "text/x-python",
   "name": "python",
   "nbconvert_exporter": "python",
   "pygments_lexer": "ipython3",
   "version": "3.8.8"
  }
 },
 "nbformat": 4,
 "nbformat_minor": 5
}
